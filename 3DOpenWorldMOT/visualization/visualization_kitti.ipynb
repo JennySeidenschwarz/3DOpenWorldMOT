{
 "cells": [
  {
   "cell_type": "code",
   "execution_count": 1,
   "id": "c802119d",
   "metadata": {},
   "outputs": [
    {
     "name": "stderr",
     "output_type": "stream",
     "text": [
      "INFO - 2022-08-26 13:06:07,060 - utils - NumExpr defaulting to 4 threads.\n"
     ]
    }
   ],
   "source": [
    "import os\n",
    "import numpy as np\n",
    "import open3d as o3d\n",
    "from open3d import JVisualizer\n",
    "#!python -m pip install pypotree\n",
    "import pypotree "
   ]
  },
  {
   "cell_type": "code",
   "execution_count": 2,
   "id": "9232669a",
   "metadata": {},
   "outputs": [
    {
     "name": "stdout",
     "output_type": "stream",
     "text": [
      "['labels', 'poses.txt', 'calib.txt', 'times.txt', 'velodyne']\n"
     ]
    }
   ],
   "source": [
    "path = \"../data/kitti/sequences/00\"\n",
    "print(os.listdir(path))"
   ]
  },
  {
   "cell_type": "code",
   "execution_count": 3,
   "id": "0d88b96c",
   "metadata": {},
   "outputs": [
    {
     "name": "stdout",
     "output_type": "stream",
     "text": [
      "(3, 124152) (124152,)\n"
     ]
    }
   ],
   "source": [
    "for scan in os.listdir(os.path.join(path, 'velodyne')):\n",
    "    scan_file = os.path.join(path, 'velodyne', scan)\n",
    "    scan_data = np.fromfile(scan_file, dtype=np.float32).reshape(-1, 4)\n",
    "    pos = scan_data[:, :3]\n",
    "    intensity = scan_data[:, 3]\n",
    "    label_file = os.path.join(path, 'labels', scan[:-3] + 'label')\n",
    "    label_data = np.fromfile(label_file, dtype=np.uint32).astype(np.int32)\n",
    "    semantic_label = label_data & 0xFFFF\n",
    "    instance_label = label_data >> 16\n",
    "    \n",
    "    semantic_label_col = np.repeat(np.expand_dims(semantic_label, axis=0), 3, axis=0)\n",
    "    print(semantic_label_col.shape, semantic_label.shape)\n",
    "    break\n",
    "    \n",
    "    '''pcd = o3d.geometry.PointCloud()\n",
    "    pcd.points = o3d.utility.Vector3dVector(pos)\n",
    "    pcd.colors = o3d.utility.Vector3dVector(semantic_label_col)\n",
    "    \n",
    "    visualizer = JVisualizer()\n",
    "    visualizer.add_geometry(pcd)\n",
    "    visualizer.show()'''\n",
    "    \n",
    "    #cloud = np.asarray(pos)\n",
    "    #xyz = np.random.random((100000,3)) #working\n",
    "    cloudpath = pypotree.generate_cloud_for_display(pos)\n",
    "    pypotree.display_cloud_colab(cloudpath)"
   ]
  },
  {
   "cell_type": "code",
   "execution_count": null,
   "id": "b23d049c",
   "metadata": {},
   "outputs": [],
   "source": []
  }
 ],
 "metadata": {
  "kernelspec": {
   "display_name": "Python 3 (ipykernel)",
   "language": "python",
   "name": "python3"
  },
  "language_info": {
   "codemirror_mode": {
    "name": "ipython",
    "version": 3
   },
   "file_extension": ".py",
   "mimetype": "text/x-python",
   "name": "python",
   "nbconvert_exporter": "python",
   "pygments_lexer": "ipython3",
   "version": "3.7.13"
  }
 },
 "nbformat": 4,
 "nbformat_minor": 5
}
